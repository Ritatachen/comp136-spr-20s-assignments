{
 "cells": [
  {
   "cell_type": "code",
   "execution_count": 26,
   "metadata": {},
   "outputs": [],
   "source": [
    "import numpy as np\n",
    "from scipy.special import gamma, gammaln, factorial"
   ]
  },
  {
   "cell_type": "code",
   "execution_count": 43,
   "metadata": {},
   "outputs": [],
   "source": [
    "import matplotlib.pyplot as plt\n",
    "import seaborn as sns\n",
    "sns.set_style(\"whitegrid\")\n",
    "sns.set_context(\"notebook\", font_scale=2.0)"
   ]
  },
  {
   "cell_type": "markdown",
   "metadata": {},
   "source": [
    "# Gamma function"
   ]
  },
  {
   "cell_type": "markdown",
   "metadata": {},
   "source": [
    "$$\n",
    "\\Gamma(x) = \\int_{0}^{\\infty} u^{x-1} e^{-u} du\n",
    "$$"
   ]
  },
  {
   "cell_type": "markdown",
   "metadata": {},
   "source": [
    "Thankfully, you can use the built-in functions from SciPy to compute this function:\n",
    "\n",
    "* `gamma(\\cdot)` computes the gamma function $\\Gamma(x)$\n",
    "* * See <https://docs.scipy.org/doc/scipy/reference/generated/scipy.special.gamma.html>\n",
    "* `gammaln(\\cdot)` computes the natural log of the gamma function $\\log \\Gamma(x)$\n",
    "* * See <https://docs.scipy.org/doc/scipy-0.19.0/reference/generated/scipy.special.gammaln.html>\n",
    "* * Will often be more numerically stable than doing `np.log(gamma(\\cdot))`"
   ]
  },
  {
   "cell_type": "markdown",
   "metadata": {},
   "source": [
    "# Plot of the Gamma function"
   ]
  },
  {
   "cell_type": "code",
   "execution_count": 44,
   "metadata": {},
   "outputs": [
    {
     "data": {
      "text/plain": [
       "Text(0, 0.5, '$\\\\Gamma(x)$')"
      ]
     },
     "execution_count": 44,
     "metadata": {},
     "output_type": "execute_result"
    },
    {
     "data": {
      "image/png": "[encoded data removed]",
      "text/plain": [
       "<Figure size 432x288 with 1 Axes>"
      ]
     },
     "metadata": {},
     "output_type": "display_data"
    }
   ],
   "source": [
    "x_G = np.linspace(-5, 5, 10000)\n",
    "plt.plot(x_G, gamma(x_G), 'k.-');\n",
    "\n",
    "ax = plt.gca()\n",
    "ax.set_ylim([-10, 10])\n",
    "ax.set_xlabel('x')\n",
    "ax.set_ylabel('$\\Gamma(x)$')"
   ]
  },
  {
   "cell_type": "markdown",
   "metadata": {},
   "source": [
    "# Focus on non-negative integer inputs"
   ]
  },
  {
   "cell_type": "code",
   "execution_count": 45,
   "metadata": {},
   "outputs": [
    {
     "name": "stdout",
     "output_type": "stream",
     "text": [
      "     x      gamma(x)  log(gamma(x))\n",
      "     0.00        inf          inf\n",
      "     1.00      1.000        0.000\n",
      "     2.00      1.000        0.000\n",
      "     3.00      2.000        0.693\n",
      "     4.00      6.000        1.792\n",
      "     5.00     24.000        3.178\n",
      "     6.00    120.000        4.787\n"
     ]
    }
   ],
   "source": [
    "print(\"     x      gamma(x)  log(gamma(x))\")\n",
    "for x in [0.0, 1.0, 2.0, 3.0, 4.0, 5.0, 6.0]:\n",
    "    print(\"% 9.2f  % 9.3f    % 9.3f\" % (x, gamma(x), gammaln(x)))"
   ]
  },
  {
   "cell_type": "markdown",
   "metadata": {},
   "source": [
    "# Generalizes the factorial function from integers to real numbers\n",
    "\n",
    "$$\n",
    "\\Gamma(x+1) = x! \\quad x \\geq 0\n",
    "$$"
   ]
  },
  {
   "cell_type": "code",
   "execution_count": 46,
   "metadata": {},
   "outputs": [
    {
     "name": "stdout",
     "output_type": "stream",
     "text": [
      "     x      factorial(x)  log(factorial(x))\n",
      "     0.00      1.000        0.000\n",
      "     1.00      1.000        0.000\n",
      "     2.00      2.000        0.693\n",
      "     3.00      6.000        1.792\n",
      "     4.00     24.000        3.178\n",
      "     5.00    120.000        4.787\n",
      "     6.00    720.000        6.579\n"
     ]
    }
   ],
   "source": [
    "print(\"     x      factorial(x)  log(factorial(x))\")\n",
    "for x in [0.0, 1.0, 2.0, 3.0, 4.0, 5.0, 6.0]:\n",
    "    print(\"% 9.2f  % 9.3f    % 9.3f\" % (x, factorial(x), np.log(factorial(x))))"
   ]
  },
  {
   "cell_type": "markdown",
   "metadata": {},
   "source": [
    "# Obeys a recursive relation\n",
    "\n",
    "$$\n",
    "\\Gamma(x+1) = x \\Gamma(x), \\qquad \\forall x > 0\n",
    "$$"
   ]
  },
  {
   "cell_type": "code",
   "execution_count": 47,
   "metadata": {},
   "outputs": [
    {
     "name": "stdout",
     "output_type": "stream",
     "text": [
      "     0.10      0.951        0.951\n",
      "     0.50      0.886        0.886\n",
      "     0.99      0.996        0.996\n",
      "     1.01      1.004        1.004\n",
      "     2.50      3.323        3.323\n",
      "     5.90    597.494      597.494\n"
     ]
    }
   ],
   "source": [
    "for x in [0.1, 0.5, 0.99, 1.01, 2.5, 5.9]:\n",
    "    print(\"% 9.2f  % 9.3f    % 9.3f\" % (x, gamma(x+1), gamma(x)*x))"
   ]
  },
  {
   "cell_type": "markdown",
   "metadata": {},
   "source": [
    "# Show gamma(x), focus on non-negative inputs"
   ]
  },
  {
   "cell_type": "code",
   "execution_count": 48,
   "metadata": {},
   "outputs": [
    {
     "data": {
      "text/plain": [
       "<matplotlib.legend.Legend at 0x1a205ed9d0>"
      ]
     },
     "execution_count": 48,
     "metadata": {},
     "output_type": "execute_result"
    },
    {
     "data": {
      "image/png": "[encoded data removed]",
      "text/plain": [
       "<Figure size 432x288 with 1 Axes>"
      ]
     },
     "metadata": {},
     "output_type": "display_data"
    }
   ],
   "source": [
    "x_G = np.linspace(0, 5, 10000)\n",
    "plt.plot(x_G, gamma(x_G), 'k.-', label='$\\Gamma(x)$');\n",
    "plt.plot(x_G, gammaln(x_G), 'r.-', label='$log \\Gamma(x)$')\n",
    "ax = plt.gca()\n",
    "ax.set_ylim([-10, 10])\n",
    "ax.set_xlabel('x')\n",
    "plt.legend(loc='lower right')"
   ]
  }
 ],
 "metadata": {
  "kernelspec": {
   "display_name": "Python 3",
   "language": "python",
   "name": "python3"
  },
  "language_info": {
   "codemirror_mode": {
    "name": "ipython",
    "version": 3
   },
   "file_extension": ".py",
   "mimetype": "text/x-python",
   "name": "python",
   "nbconvert_exporter": "python",
   "pygments_lexer": "ipython3",
   "version": "3.7.4"
  }
 },
 "nbformat": 4,
 "nbformat_minor": 2
}
