{
 "cells": [
  {
   "cell_type": "code",
   "execution_count": 1,
   "metadata": {},
   "outputs": [],
   "source": [
    "import numpy as np"
   ]
  },
  {
   "cell_type": "code",
   "execution_count": 14,
   "metadata": {},
   "outputs": [],
   "source": [
    "import scipy.stats\n",
    "inverse_cdf = scipy.stats.norm.ppf\n",
    "cdf = scipy.stats.norm.cdf"
   ]
  },
  {
   "cell_type": "code",
   "execution_count": 15,
   "metadata": {},
   "outputs": [],
   "source": [
    "import matplotlib.pyplot as plt\n",
    "import seaborn as sns\n",
    "sns.set_style(\"whitegrid\")\n",
    "sns.set_context(\"notebook\", font_scale=2.0)"
   ]
  },
  {
   "cell_type": "markdown",
   "metadata": {},
   "source": [
    "# Multivariate normal PDF"
   ]
  },
  {
   "cell_type": "markdown",
   "metadata": {},
   "source": [
    "$$\n",
    "\\text{MVNormalPDF}(x | \\mu, \\Sigma) = \\frac{1}{(2\\pi)^{D/2}} \\frac{1}{\\text{det}(\\Sigma)^{1/2}} \\exp{-\\frac{1}{2} (x-\\mu)^T \\Sigma^{-1} (x-\\mu) }\n",
    "$$"
   ]
  },
  {
   "cell_type": "markdown",
   "metadata": {},
   "source": [
    "# Plot the contours of the PDF in 2D space"
   ]
  },
  {
   "cell_type": "code",
   "execution_count": 47,
   "metadata": {},
   "outputs": [],
   "source": [
    "\n",
    "def plotGauss2DContour(\n",
    "        mu_D, cov_DD,\n",
    "        color='b',\n",
    "        prob_mass_inside_contour_grid=[0.25, 0.75, 0.99],\n",
    "        markersize=3.0,\n",
    "        unit_circle_radian_step_size=0.03,\n",
    "        ax_handle=None,\n",
    "        ):\n",
    "    ''' Plot elliptical contours for provided mean mu, covariance Sigma.\n",
    "    \n",
    "    Args\n",
    "    ----\n",
    "    mu_D : 1D numpy array, shape (D,) = (2,)\n",
    "        Must be a 2-d mean vector\n",
    "    cov_DD : 2D numpy array, shape (D,D) = (2,2)\n",
    "        Must be a 2x2 symmetric, positive definite covariance\n",
    "    prob_mass_inside_contour_grid : list\n",
    "        How much probability mass should lie inside each contour\n",
    "\n",
    "    Post Condition\n",
    "    --------------\n",
    "    Plot created on current axes (or the provided axis)\n",
    "    '''\n",
    "    # If user provided an axis, use that\n",
    "    if ax_handle is not None:\n",
    "        plt.sca(ax_handle)\n",
    "\n",
    "    mu_D = np.squeeze(np.asarray(mu_D))\n",
    "    cov_DD = np.asarray(cov_DD)\n",
    "    assert mu_D.shape == (2,)\n",
    "    assert cov_DD.shape == (2,2)\n",
    "    \n",
    "    # Decompose cov matrix into eigenvalues \"lambda[d]\" and eigenvectors \"V[:,d]\"\n",
    "    lambda_D, V_DD = np.linalg.eig(cov_DD)\n",
    "    sqrtCov_DD = np.dot(V_DD, np.sqrt(np.diag(lambda_D)))\n",
    "\n",
    "    # Prep for plotting elliptical contours\n",
    "    # by creating grid of G different (x,y) points along perfect circle\n",
    "    t_G = np.arange(-np.pi, np.pi, unit_circle_radian_step_size)\n",
    "    x_G = np.sin(t_G)\n",
    "    y_G = np.cos(t_G)\n",
    "    Zcirc_DG = np.vstack([x_G, y_G])\n",
    "\n",
    "    # Warp circle into ellipse defined by Sigma's eigenvectors\n",
    "    Zellipse_DG = np.dot(sqrtCov_DD, Zcirc_DG)\n",
    "\n",
    "    # Plot contour lines across several radius lengths\n",
    "    for prob_mass in sorted(prob_mass_inside_contour_grid):\n",
    "        # How large is the radius r?\n",
    "        # Need to set r such that area from (-r, r) for 1D Gaussian equals p\n",
    "        # Equivalently by symmetry we set:  2 * ( CDF(r) - CDF(0) ) = p\n",
    "        r = inverse_cdf(prob_mass/2 + cdf(0))\n",
    "        \n",
    "        Z_DG = r * Zellipse_DG + mu_D[:, np.newaxis]\n",
    "        plt.plot(\n",
    "            Z_DG[0], Z_DG[1], '.',\n",
    "            markersize=markersize,\n",
    "            markerfacecolor=color,\n",
    "            markeredgecolor=color)\n"
   ]
  },
  {
   "cell_type": "code",
   "execution_count": 48,
   "metadata": {},
   "outputs": [
    {
     "data": {
      "image/png": "[encoded data removed]",
      "text/plain": [
       "<Figure size 432x288 with 1 Axes>"
      ]
     },
     "metadata": {},
     "output_type": "display_data"
    }
   ],
   "source": [
    "plotGauss2DContour([0,0], np.eye(2))\n",
    "plt.gca().set_aspect('equal', 'box');\n",
    "plt.gca().set_xlim([-3, 3]);\n",
    "plt.gca().set_ylim([-3, 3]);"
   ]
  },
  {
   "cell_type": "code",
   "execution_count": 53,
   "metadata": {},
   "outputs": [
    {
     "data": {
      "image/png": "[encoded data removed]",
      "text/plain": [
       "<Figure size 432x288 with 1 Axes>"
      ]
     },
     "metadata": {},
     "output_type": "display_data"
    }
   ],
   "source": [
    "plotGauss2DContour([0,0], np.asarray([[3, 0], [0, 1]]))\n",
    "plt.gca().set_aspect('equal', 'box');\n",
    "plt.gca().set_xlim([-3, 3]);\n",
    "plt.gca().set_ylim([-3, 3]);"
   ]
  },
  {
   "cell_type": "code",
   "execution_count": 54,
   "metadata": {},
   "outputs": [
    {
     "data": {
      "image/png": "[encoded data removed]",
      "text/plain": [
       "<Figure size 432x288 with 1 Axes>"
      ]
     },
     "metadata": {},
     "output_type": "display_data"
    }
   ],
   "source": [
    "plotGauss2DContour([0,0], np.asarray([[1, -1.5], [-1.5, 4]]))\n",
    "plt.gca().set_aspect('equal', 'box');\n",
    "plt.gca().set_xlim([-3, 3]);\n",
    "plt.gca().set_ylim([-3, 3]);"
   ]
  },
  {
   "cell_type": "code",
   "execution_count": null,
   "metadata": {},
   "outputs": [],
   "source": []
  }
 ],
 "metadata": {
  "kernelspec": {
   "display_name": "Python 3",
   "language": "python",
   "name": "python3"
  },
  "language_info": {
   "codemirror_mode": {
    "name": "ipython",
    "version": 3
   },
   "file_extension": ".py",
   "mimetype": "text/x-python",
   "name": "python",
   "nbconvert_exporter": "python",
   "pygments_lexer": "ipython3",
   "version": "3.7.6"
  }
 },
 "nbformat": 4,
 "nbformat_minor": 2
}
